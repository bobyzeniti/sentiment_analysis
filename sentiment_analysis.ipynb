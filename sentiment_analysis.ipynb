{
 "cells": [
  {
   "cell_type": "code",
   "execution_count": 3,
   "id": "71cb8435",
   "metadata": {
    "execution": {
     "iopub.execute_input": "2023-12-20T23:46:14.803643Z",
     "iopub.status.busy": "2023-12-20T23:46:14.802724Z",
     "iopub.status.idle": "2023-12-20T23:46:30.345082Z",
     "shell.execute_reply": "2023-12-20T23:46:30.344011Z"
    },
    "papermill": {
     "duration": 15.560415,
     "end_time": "2023-12-20T23:46:30.347399",
     "exception": false,
     "start_time": "2023-12-20T23:46:14.786984",
     "status": "completed"
    },
    "tags": []
   },
   "outputs": [
    {
     "name": "stderr",
     "output_type": "stream",
     "text": [
      "/opt/conda/lib/python3.10/site-packages/scipy/__init__.py:146: UserWarning: A NumPy version >=1.16.5 and <1.23.0 is required for this version of SciPy (detected version 1.24.3\n",
      "  warnings.warn(f\"A NumPy version >={np_minversion} and <{np_maxversion}\"\n"
     ]
    },
    {
     "name": "stdout",
     "output_type": "stream",
     "text": [
      "--- Setup complete ---\n"
     ]
    }
   ],
   "source": [
    "### Dataframes, linear algebra and visualization:\n",
    "import pandas as pd\n",
    "from scipy.special import softmax\n",
    "\n",
    "# Transformers\n",
    "from transformers import AutoTokenizer, AutoModelForSequenceClassification\n",
    "\n",
    "print(\"--- Setup complete ---\")"
   ]
  },
  {
   "cell_type": "code",
   "execution_count": null,
   "id": "8415c982",
   "metadata": {},
   "outputs": [],
   "source": [
    "df = pd.read_csv(\"xyz.csv\")\n",
    "df.head()"
   ]
  },
  {
   "cell_type": "code",
   "execution_count": null,
   "id": "e8891e2a",
   "metadata": {},
   "outputs": [],
   "source": [
    "#Load model and tokenizer\n",
    "roberta = \"cardiffnlp/twitter-roberta-base-sentiment\"\n",
    "\n",
    "model = AutoModelForSequenceClassification.from_pretrained(roberta)\n",
    "tokenizer = AutoTokenizer.from_pretrained(roberta)\n",
    "\n",
    "labels = ['Negative', 'Neutral', 'Positive']"
   ]
  },
  {
   "cell_type": "code",
   "execution_count": null,
   "id": "77690b4e",
   "metadata": {},
   "outputs": [],
   "source": [
    "#Create the negative scores list, tokenize each review and calculate its \"negativity\" score:\n",
    "\n",
    "negative_review_sentiment = []\n",
    "\n",
    "for review in df['REVIEWS']:\n",
    "    print(review)\n",
    "    encoded_review = tokenizer(review, return_tensors = 'pt')\n",
    "    len_encoded = len(encoded_review['ids'].detach().numpy()[0])\n",
    "    print(len_encoded)\n",
    "\n",
    "    try:\n",
    "        output = model(**encoded_review)\n",
    "        scores = output[0][0].detach().numpy()\n",
    "        scores = softmax(scores)\n",
    "        score = scores[0]\n",
    "    \n",
    "    except:\n",
    "        score = -1\n",
    "    \n",
    "    negative_review_sentiment.append(score)\n"
   ]
  },
  {
   "cell_type": "code",
   "execution_count": null,
   "id": "caa405c4",
   "metadata": {},
   "outputs": [],
   "source": [
    "#When negativity > 0.5, it is a negative review\n",
    "\n",
    "negative_reviews_df = pd.DataFrame(negative_review_sentiment)\n",
    "negative_reviews_df.columns = ['negativity']\n",
    "\n",
    "scored_df = pd.concat([df.reset_index().drop['index'], axis = 1, negative_reviews_df], axis = 1)\n",
    "\n",
    "scored_df['negativity_label'] = 0\n",
    "\n",
    "scored_df.loc[scored_df['negativity'] > 0.5, 'negativity_label'] = 1"
   ]
  }
 ],
 "metadata": {
  "kaggle": {
   "accelerator": "nvidiaTeslaT4",
   "dataSources": [
    {
     "databundleVersionId": 7056235,
     "sourceId": 57891,
     "sourceType": "competition"
    }
   ],
   "dockerImageVersionId": 30579,
   "isGpuEnabled": true,
   "isInternetEnabled": false,
   "language": "python",
   "sourceType": "notebook"
  },
  "kernelspec": {
   "display_name": "Python 3",
   "language": "python",
   "name": "python3"
  },
  "language_info": {
   "codemirror_mode": {
    "name": "ipython",
    "version": 3
   },
   "file_extension": ".py",
   "mimetype": "text/x-python",
   "name": "python",
   "nbconvert_exporter": "python",
   "pygments_lexer": "ipython3",
   "version": "3.9.4"
  },
  "papermill": {
   "default_parameters": {},
   "duration": 612.864004,
   "end_time": "2023-12-20T23:56:21.496554",
   "environment_variables": {},
   "exception": null,
   "input_path": "__notebook__.ipynb",
   "output_path": "__notebook__.ipynb",
   "parameters": {},
   "start_time": "2023-12-20T23:46:08.632550",
   "version": "2.4.0"
  }
 },
 "nbformat": 4,
 "nbformat_minor": 5
}
